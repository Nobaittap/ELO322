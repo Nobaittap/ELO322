{
 "cells": [
  {
   "cell_type": "markdown",
   "metadata": {},
   "source": [
    "### Tarea 0 (client-side)\n",
    "\n",
    "#### Importacion\n",
    "\n",
    "Al igual que en el <b>server-side</b>, importamos la libreria <b>socket</b> en primera instancia."
   ]
  },
  {
   "cell_type": "code",
   "execution_count": null,
   "metadata": {},
   "outputs": [],
   "source": [
    "# Importamos la libreria\n",
    "import socket as Socket"
   ]
  },
  {
   "cell_type": "markdown",
   "metadata": {},
   "source": [
    "#### Variables de configuracion\n",
    "\n",
    "Definimos algunas variables de configuracion para el levantamiento del cliente en la red."
   ]
  },
  {
   "cell_type": "code",
   "execution_count": null,
   "metadata": {},
   "outputs": [],
   "source": [
    "# Seteo de variables de configuracion\n",
    "Ip, Puerto, Buffer = \"127.0.0.1\", 1060, 2048"
   ]
  },
  {
   "cell_type": "markdown",
   "metadata": {},
   "source": [
    "#### Instanciamos un socket\n",
    "\n",
    "Generamos una instancia de socket, con protocolo UDP."
   ]
  },
  {
   "cell_type": "code",
   "execution_count": null,
   "metadata": {},
   "outputs": [],
   "source": [
    "# Seteamos en una variable, una instancia de socket\n",
    "socket = Socket.socket(Socket.AF_INET, Socket.SOCK_DGRAM)"
   ]
  },
  {
   "cell_type": "markdown",
   "metadata": {},
   "source": [
    "#### Enviamos una peticion\n",
    "\n",
    "Enviamos una peticion simple al servidor, para que pueda reconocer nuestra direccion en la red."
   ]
  },
  {
   "cell_type": "code",
   "execution_count": null,
   "metadata": {},
   "outputs": [],
   "source": [
    "# Envio de peticion simple, a traves del metodo sendto\n",
    "socket.sendto(str.encode(\"\"), (Ip, Puerto))"
   ]
  },
  {
   "cell_type": "markdown",
   "metadata": {},
   "source": [
    "#### Recibimos la respuesta\n",
    "\n",
    "Luego de enviar la peticion, el servidor recibira nuestra peticion y nos enviara de vuelta una respuesta."
   ]
  },
  {
   "cell_type": "code",
   "execution_count": null,
   "metadata": {},
   "outputs": [],
   "source": [
    "# Recibimos la respuesta mediante el metodo recvfrom\n",
    "# Desarmamos la tupla retornada de este metodo, para poder seleccionar entre mensaje y direccion\n",
    "msg, addr = socket.recvfrom(Buffer)\n",
    "\n",
    "# Finalmente, imprimimos el mensaje recibido\n",
    "print(msg)"
   ]
  },
  {
   "cell_type": "markdown",
   "metadata": {},
   "source": [
    "#### 2. Discuta su posición con respecto al siguiente enunciado: \"El tráfico de datos permite identificar anomalías y por lo tanto, debemos analizar todo el tráfico\"\n",
    "\n",
    "RESPUESTA AQUI
    Cuando hablamos sobre “tráfico de red”, nos referimos a los paquetes de datos que se desplazan por una red en un momento especifico, esta es la base fundamental de la transmisión de datos.
Si nosotros comparamos al tráfico de red con el tráfico de una autopista y/o camino público, podremos darnos cuenta de que hay varios puntos similares, la gran mayoría de vehículos se dirige a destinos distintos, y obviamente en sus interiores tienen contenido distinto que serviría para identificar a sus dueños.
En este caso sucede lo mismo con los paquetes de datos en los tráficos de redes, al interceptar cualquier parte del tráfico, puedes conocer a profundidad quién envió el paquete, a qué hora fue enviado, desde que hora fue enviado y a donde se dirige.
Esta gran cantidad de información que se maneja no es algo a tomar a menos, debido a que si se logra conseguir una gran cantidad de paquetes puedes directamente conocer todo lo que se envió en la red e incluso adulterar su contenido, por ello, es fundamental la monitorización del tráfico de red, teniendo en cuenta la gran cantidad de anomalías que se pueden registrar en estas mismas redes.
En esta tarea trabajamos con un cliente y un servidor dentro de una red virtual armada en un mismo computador, pero si lo lleváramos a una escala mayor, podemos hablar sobre el envío de información confidencial por redes empresariales o metropolitanas, plagadas de peligros que generarían perdidas de información si no logramos tener un buen análisis del tráfico
"
   ]
  }
 ],
 "metadata": {
  "interpreter": {
   "hash": "aee8b7b246df8f9039afb4144a1f6fd8d2ca17a180786b69acc140d282b71a49"
  },
  "kernelspec": {
   "display_name": "Python 3.10.2 64-bit",
   "language": "python",
   "name": "python3"
  },
  "language_info": {
   "codemirror_mode": {
    "name": "ipython",
    "version": 3
   },
   "file_extension": ".py",
   "mimetype": "text/x-python",
   "name": "python",
   "nbconvert_exporter": "python",
   "pygments_lexer": "ipython3",
   "version": "3.10.2"
  },
  "orig_nbformat": 4
 },
 "nbformat": 4,
 "nbformat_minor": 2
}
