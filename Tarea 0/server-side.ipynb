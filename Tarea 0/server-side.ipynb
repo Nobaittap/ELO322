{
 "cells": [
  {
   "cell_type": "markdown",
   "metadata": {},
   "source": [
    "### Tarea 0 (server-side)\n",
    "\n",
    "#### Importacion\n",
    "\n",
    "Primeramente importamos la libreria <b>socket</b>, que nos permite generar un servidor. "
   ]
  },
  {
   "cell_type": "code",
   "execution_count": 1,
   "metadata": {},
   "outputs": [],
   "source": [
    "# Importamos la libreria\n",
    "import socket as Socket"
   ]
  },
  {
   "cell_type": "markdown",
   "metadata": {},
   "source": [
    "#### Variables de entorno\n",
    "\n",
    "Creamos variables de entorno, para la configuracion del servidor."
   ]
  },
  {
   "cell_type": "code",
   "execution_count": 7,
   "metadata": {},
   "outputs": [],
   "source": [
    "# Creacion de variables de entorno\n",
    "Ip, Puerto, Buffer = \"127.0.0.1\", 1060, 1024"
   ]
  },
  {
   "cell_type": "markdown",
   "metadata": {},
   "source": [
    "#### Pedimos un mensaje\n",
    "\n",
    "Pedimos al servidor un mensaje a enviar."
   ]
  },
  {
   "cell_type": "code",
   "execution_count": 17,
   "metadata": {},
   "outputs": [],
   "source": [
    "# Ingrese el mensaje que quiere enviar\n",
    "message = str.encode(input(\"Ingrese mensaje: \"))"
   ]
  },
  {
   "cell_type": "markdown",
   "metadata": {},
   "source": [
    "#### Instanciar UDP Socket Server\n",
    "\n",
    "Generamos una instancia de socket, con protocolo UDP ademas de otras."
   ]
  },
  {
   "cell_type": "code",
   "execution_count": 8,
   "metadata": {},
   "outputs": [],
   "source": [
    "# Instanciamos el server\n",
    "socket = Socket.socket(Socket.AF_INET, Socket.SOCK_DGRAM)"
   ]
  },
  {
   "cell_type": "markdown",
   "metadata": {},
   "source": [
    "#### "
   ]
  },
  {
   "cell_type": "code",
   "execution_count": 9,
   "metadata": {},
   "outputs": [],
   "source": [
    "socket.bind((Ip, Puerto))"
   ]
  },
  {
   "cell_type": "markdown",
   "metadata": {},
   "source": [
    "#### "
   ]
  },
  {
   "cell_type": "code",
   "execution_count": 20,
   "metadata": {},
   "outputs": [
    {
     "ename": "KeyboardInterrupt",
     "evalue": "",
     "output_type": "error",
     "traceback": [
      "\u001b[0;31m---------------------------------------------------------------------------\u001b[0m",
      "\u001b[0;31mKeyboardInterrupt\u001b[0m                         Traceback (most recent call last)",
      "\u001b[1;32m/Users/zumodeus/Desktop/UTFSM/ELO322/Tarea 0/server-side.ipynb Cell 12'\u001b[0m in \u001b[0;36m<cell line: 1>\u001b[0;34m()\u001b[0m\n\u001b[1;32m      <a href='vscode-notebook-cell:/Users/zumodeus/Desktop/UTFSM/ELO322/Tarea%200/server-side.ipynb#ch0000015?line=0'>1</a>\u001b[0m \u001b[39mwhile\u001b[39;00m \u001b[39mTrue\u001b[39;00m:\n\u001b[0;32m----> <a href='vscode-notebook-cell:/Users/zumodeus/Desktop/UTFSM/ELO322/Tarea%200/server-side.ipynb#ch0000015?line=2'>3</a>\u001b[0m     m, addr \u001b[39m=\u001b[39m socket\u001b[39m.\u001b[39;49mrecvfrom(Buffer)\n\u001b[1;32m      <a href='vscode-notebook-cell:/Users/zumodeus/Desktop/UTFSM/ELO322/Tarea%200/server-side.ipynb#ch0000015?line=4'>5</a>\u001b[0m     socket\u001b[39m.\u001b[39msendto(message, addr)\n",
      "\u001b[0;31mKeyboardInterrupt\u001b[0m: "
     ]
    }
   ],
   "source": [
    "while True:\n",
    "\n",
    "    m, addr = socket.recvfrom(Buffer)\n",
    "\n",
    "    socket.sendto(message, addr)"
   ]
  }
 ],
 "metadata": {
  "interpreter": {
   "hash": "aee8b7b246df8f9039afb4144a1f6fd8d2ca17a180786b69acc140d282b71a49"
  },
  "kernelspec": {
   "display_name": "Python 3.10.2 64-bit",
   "language": "python",
   "name": "python3"
  },
  "language_info": {
   "codemirror_mode": {
    "name": "ipython",
    "version": 3
   },
   "file_extension": ".py",
   "mimetype": "text/x-python",
   "name": "python",
   "nbconvert_exporter": "python",
   "pygments_lexer": "ipython3",
   "version": "3.10.2"
  },
  "orig_nbformat": 4
 },
 "nbformat": 4,
 "nbformat_minor": 2
}
