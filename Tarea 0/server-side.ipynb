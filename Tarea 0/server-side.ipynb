{
 "cells": [
  {
   "cell_type": "markdown",
   "metadata": {},
   "source": [
    "### Tarea 0 (server-side)\n",
    "\n",
    "#### Importacion\n",
    "\n",
    "Primeramente importamos la libreria <b>socket</b>, que nos permite generar un servidor. "
   ]
  },
  {
   "cell_type": "code",
   "execution_count": null,
   "metadata": {},
   "outputs": [],
   "source": [
    "# Importamos la libreria\n",
    "import socket as Socket"
   ]
  },
  {
   "cell_type": "markdown",
   "metadata": {},
   "source": [
    "#### Variables de entorno\n",
    "\n",
    "Creamos variables de entorno, para la configuracion del servidor."
   ]
  },
  {
   "cell_type": "code",
   "execution_count": null,
   "metadata": {},
   "outputs": [],
   "source": [
    "# Creacion de variables de entorno\n",
    "Ip, Puerto, Buffer = \"127.0.0.1\", 1060, 2048"
   ]
  },
  {
   "cell_type": "markdown",
   "metadata": {},
   "source": [
    "#### Setear el mensaje del server\n",
    "\n",
    "Le seteamos al server un mensaje a enviar."
   ]
  },
  {
   "cell_type": "code",
   "execution_count": null,
   "metadata": {},
   "outputs": [],
   "source": [
    "# Ingrese el mensaje que quiere enviar\n",
    "message = str.encode(input(\"Ingrese mensaje: \"))"
   ]
  },
  {
   "cell_type": "markdown",
   "metadata": {},
   "source": [
    "#### Instanciar UDP Socket Server\n",
    "\n",
    "Generamos una instancia de socket, con protocolo UDP ademas de otras configuraciones."
   ]
  },
  {
   "cell_type": "code",
   "execution_count": null,
   "metadata": {},
   "outputs": [],
   "source": [
    "# Instanciamos el server\n",
    "socket = Socket.socket(Socket.AF_INET, Socket.SOCK_DGRAM)"
   ]
  },
  {
   "cell_type": "markdown",
   "metadata": {},
   "source": [
    "#### Linkear el server\n",
    "\n",
    "Linkeamos el server a una direccion de la red, en la cual estara recibiendo peticiones."
   ]
  },
  {
   "cell_type": "code",
   "execution_count": null,
   "metadata": {},
   "outputs": [],
   "source": [
    "# Hacemos uso del metodo bind para linkear la instancia a una direccion de red\n",
    "socket.bind((Ip, Puerto))"
   ]
  },
  {
   "cell_type": "markdown",
   "metadata": {},
   "source": [
    "#### Recibir peticiones\n",
    "\n",
    "Finalmente, es hora de hacer que nuestro server reciba indefinidas peticiones por tiempo ilimitado."
   ]
  },
  {
   "cell_type": "code",
   "execution_count": null,
   "metadata": {},
   "outputs": [],
   "source": [
    "# Generamos un bucle infinito\n",
    "while True:\n",
    "\n",
    "    # Hacemos uso del metodo recvfrom, para recibir las peticiones hechas al servidor\n",
    "    # Esta retornara dos datos de suma importancia, un mensaje y la direccion del cliente\n",
    "    m, addr = socket.recvfrom(Buffer)\n",
    "\n",
    "    # Luego ocupamos el metodo sendto, para enviar una cadena de texto (string) a un cliente\n",
    "    # Los parametros a utilizar por este metodo son el mensaje previamente seteado\n",
    "    # Ademas de la direccion en la red del cliente\n",
    "    socket.sendto(message, addr)"
   ]
  },
  {
   "cell_type": "markdown",
   "metadata": {},
   "source": [
    "#### 1. ¿Qué aspectos del desarrollo de código contribuyen o no en la realización de análisis de tráfico y por qué?\n",
    "\n",
    "Teniendo en cuenta que desde que importamos la librería de socket todas las líneas y secciones de código son sumamente importantes para el correcto funcionamiento del programa, sin embargo, la gran parte de estas instrucciones tienen una función distinta, como podrían ser: crear las variables de entorno, generar la instancia de socket, conectar (linkear) el server, y recibir peticiones. A diferencias de estas secciones nombradas anteriormente la sección que pierde un poco de prioridad es la de “setear el mensaje del servidor” ya que, esta no influye directamente en el trafico de datos, solo indica el mensaje que le debería llegar al cliente cuando este se conecte con el servidor. Como grupo creemos que el aspecto o parte del código que más contribuyen a la realización del análisis del tráfico de las redes es el bucle infinito al final del código, ya que es el que permite recibir las peticiones hechas al servidor, ya que, esta sección de código es la que comunica a nuestro servidor con el cliente, del cual se analizan los datos. También una sección importante y de mayor atención es la de “linkear el servidor”, ya que, de esta depende que estemos analizando el tráfico correcto de paquetes de datos."
   ]
  }
 ],
 "metadata": {
  "interpreter": {
   "hash": "aee8b7b246df8f9039afb4144a1f6fd8d2ca17a180786b69acc140d282b71a49"
  },
  "kernelspec": {
   "display_name": "Python 3.10.2 64-bit",
   "language": "python",
   "name": "python3"
  },
  "language_info": {
   "codemirror_mode": {
    "name": "ipython",
    "version": 3
   },
   "file_extension": ".py",
   "mimetype": "text/x-python",
   "name": "python",
   "nbconvert_exporter": "python",
   "pygments_lexer": "ipython3",
   "version": "3.10.2"
  },
  "orig_nbformat": 4
 },
 "nbformat": 4,
 "nbformat_minor": 2
}
